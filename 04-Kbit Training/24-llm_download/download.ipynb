{
 "cells": [
  {
   "cell_type": "code",
   "execution_count": 2,
   "metadata": {},
   "outputs": [
    {
     "name": "stderr",
     "output_type": "stream",
     "text": [
      "2023-10-30 21:43:56,731 - modelscope - INFO - Loading ast index from C:\\Users\\yuyao\\.cache\\modelscope\\ast_indexer\n",
      "2023-10-30 21:43:56,833 - modelscope - INFO - Loading done! Current index file version is 1.9.3, with md5 705589a79c63de92eafbb0ddb4710018 and a total number of 943 components indexed\n"
     ]
    }
   ],
   "source": [
    "from modelscope.hub.snapshot_download import snapshot_download"
   ]
  },
  {
   "cell_type": "code",
   "execution_count": 3,
   "metadata": {},
   "outputs": [
    {
     "name": "stderr",
     "output_type": "stream",
     "text": [
      "2023-10-30 21:43:57,722 - modelscope - WARNING - There is no version specified and there is no version in the model repository,use the master branch, which is fragile, please use it with caution!\n",
      "2023-10-30 21:43:57,723 - modelscope - INFO - Model revision not specified, use revision: master\n",
      "Downloading: 100%|██████████| 1.29k/1.29k [00:00<00:00, 376kB/s]\n",
      "Downloading: 100%|██████████| 40.0/40.0 [00:00<00:00, 10.0kB/s]\n",
      "Downloading: 100%|██████████| 2.28k/2.28k [00:00<00:00, 733kB/s]\n",
      "Downloading: 100%|██████████| 4.04k/4.04k [00:00<00:00, 1.03MB/s]\n",
      "Downloading: 100%|██████████| 54.3k/54.3k [00:00<00:00, 2.13MB/s]\n",
      "Downloading: 100%|█████████▉| 1.70G/1.70G [01:05<00:00, 27.8MB/s]\n",
      "Downloading: 100%|█████████▉| 1.83G/1.83G [01:09<00:00, 28.3MB/s]\n",
      "Downloading: 100%|█████████▉| 1.80G/1.80G [01:12<00:00, 26.8MB/s]\n",
      "Downloading: 100%|█████████▉| 1.69G/1.69G [01:05<00:00, 27.6MB/s]\n",
      "Downloading: 100%|█████████▉| 1.83G/1.83G [01:07<00:00, 29.2MB/s]\n",
      "Downloading: 100%|█████████▉| 1.80G/1.80G [01:07<00:00, 28.6MB/s]\n",
      "Downloading: 100%|█████████▉| 0.98G/0.98G [00:36<00:00, 28.8MB/s]\n",
      "Downloading: 100%|██████████| 20.0k/20.0k [00:00<00:00, 2.40MB/s]\n",
      "Downloading: 100%|██████████| 14.3k/14.3k [00:00<00:00, 1.79MB/s]\n",
      "Downloading: 100%|██████████| 4.37k/4.37k [00:00<00:00, 426kB/s]\n",
      "Downloading: 100%|██████████| 11.0k/11.0k [00:00<00:00, 2.50MB/s]\n",
      "Downloading: 100%|██████████| 995k/995k [00:00<00:00, 4.49MB/s]\n",
      "Downloading: 100%|██████████| 244/244 [00:00<00:00, 61.0kB/s]\n"
     ]
    },
    {
     "data": {
      "text/plain": [
       "'d:/Pretrained_models/ZhipuAI\\\\chatglm3-6b'"
      ]
     },
     "execution_count": 3,
     "metadata": {},
     "output_type": "execute_result"
    }
   ],
   "source": [
    "# model_id 模型id\n",
    "# cache_dir 本地缓存目录\n",
    "# ignore_file_pattern 无需下载的文件\n",
    "snapshot_download(model_id=\"ZhipuAI/chatglm3-6b\", cache_dir=\"d:/Pretrained_models/\")"
   ]
  },
  {
   "cell_type": "code",
   "execution_count": null,
   "metadata": {},
   "outputs": [],
   "source": []
  }
 ],
 "metadata": {
  "kernelspec": {
   "display_name": "ms",
   "language": "python",
   "name": "python3"
  },
  "language_info": {
   "codemirror_mode": {
    "name": "ipython",
    "version": 3
   },
   "file_extension": ".py",
   "mimetype": "text/x-python",
   "name": "python",
   "nbconvert_exporter": "python",
   "pygments_lexer": "ipython3",
   "version": "3.9.18"
  }
 },
 "nbformat": 4,
 "nbformat_minor": 2
}
